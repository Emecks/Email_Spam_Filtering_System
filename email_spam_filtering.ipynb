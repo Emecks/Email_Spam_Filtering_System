{
 "cells": [
  {
   "cell_type": "code",
   "execution_count": 1,
   "id": "c918f960",
   "metadata": {},
   "outputs": [],
   "source": [
    "# Import necessary libaries\n",
    "import os\n",
    "import pandas as pd\n",
    "import numpy as np\n",
    "from sklearn.model_selection import train_test_split\n",
    "\n",
    "import matplotlib.pyplot as plt\n",
    "%matplotlib inline\n",
    "import seaborn as sns\n",
    "\n",
    "import nltk\n",
    "from nltk.corpus import stopwords\n",
    "from nltk import word_tokenize\n",
    "from nltk.stem import WordNetLemmatizer\n",
    "from sklearn.feature_extraction.text import CountVectorizer\n",
    "from sklearn.feature_extraction.text import TfidfVectorizer\n",
    "from sklearn.feature_extraction.text import TfidfTransformer\n",
    "\n",
    "from sklearn.naive_bayes import MultinomialNB\n",
    "from sklearn.naive_bayes import BernoulliNB\n",
    "from sklearn.naive_bayes import GaussianNB\n",
    "from sklearn.svm import SVC\n",
    "from sklearn.ensemble import RandomForestClassifier\n",
    "from sklearn.neighbors import KNeighborsClassifier\n",
    "from sklearn.pipeline import Pipeline\n",
    "from sklearn.metrics import confusion_matrix, classification_report\n",
    "\n",
    "from sklearn.model_selection import KFold\n",
    "from sklearn.model_selection import cross_val_score\n",
    "from sklearn.model_selection import cross_val_predict\n",
    "\n",
    "import pickle\n",
    "\n",
    "import warnings\n",
    "warnings.filterwarnings(\"ignore\")"
   ]
  },
  {
   "cell_type": "code",
   "execution_count": 2,
   "id": "e0972bde",
   "metadata": {},
   "outputs": [],
   "source": [
    "def load_data(file1, file2, file3):\n",
    "    # define global variables\n",
    "    global emails\n",
    "    \n",
    "    # Specify data folder\n",
    "    data_folder = 'Data'\n",
    "    \n",
    "    # Read the data\n",
    "    email_1 = pd.read_csv(os.path.join(data_folder,file1),\n",
    "                        usecols=['Body', 'Label'])\n",
    "    email_2 = pd.read_csv(os.path.join(data_folder,file2),\n",
    "                        usecols=['Body', 'Label'])\n",
    "    email_3 = pd.read_csv(os.path.join(data_folder,file3),\n",
    "                        usecols=['Body', 'Label'])\n",
    "    emails = pd.concat([email_1, email_2, email_3], axis=0)\n"
   ]
  },
  {
   "cell_type": "code",
   "execution_count": 88,
   "id": "5741a59e",
   "metadata": {},
   "outputs": [],
   "source": [
    "def prep_data(data):\n",
    "    # define global variables\n",
    "    global email_train, email_test, label_train, label_test, vec\n",
    "    \n",
    "    # Drop null values in the data\n",
    "    data.dropna(inplace=True)\n",
    "    \n",
    "    # Add a new column that stores the lenth of each email body\n",
    "    data['email_length'] = data['Body'].apply(len)\n",
    "    \n",
    "    # DATA PREPARATION\n",
    "    # Drop insignificant emails\n",
    "    insignif_emails = data[emails['email_length']<10]\n",
    "    data.drop(inplace=True, index=insignif_emails.index)\n",
    "    \n",
    "    # Replace https with blank spaces\n",
    "    X_body = data['Body']\n",
    "    X_rem_links = [each.replace('http:\\\\', '') for each in X_body]\n",
    "    \n",
    "    # Replace special characters with blank spaces\n",
    "    special_characters = '!@#$%^&*()_+-[]{}|:;\"<>,.?/~`'\n",
    "    X_rem_chars = [''.join(char for char in string if char not in \n",
    "                           special_characters) for string in X_rem_links]\n",
    "\n",
    "    # Convert each word in email to lowercase and tokenize\n",
    "    X_token = [word_tokenize(each.lower()) for each in X_rem_chars]\n",
    "\n",
    "    # Instatiate Lemmatizer\n",
    "    lemmatizer = WordNetLemmatizer()\n",
    "    X_lema = [[lemmatizer.lemmatize(char) for char in each] for \n",
    "              each in X_token]\n",
    "    \n",
    "    \"\"\"\n",
    "    freq = nltk.FreqDist(X_lema)\n",
    "    plt.figure()\n",
    "    plt.bar(x=freq.most_common(20))\n",
    "    plt.show()\n",
    "    \"\"\"\n",
    "\n",
    "    # Instantiate CountVectorizer, fit and tranform, then convert to array\n",
    "    vec = CountVectorizer(stop_words='english', max_features=25000)\n",
    "    X = vec.fit_transform([\" \".join(each) for each in X_lema]).toarray()\n",
    "    \n",
    "    # Split data ibto training and testing set\n",
    "    email_train, email_test, label_train, label_test = train_test_split(\n",
    "    X, np.asarray(data['Label']), test_size=0.3)\n",
    "    \n",
    "    print(email_train.shape)\n",
    "    print(email_test.shape)\n",
    "    print(label_train.shape)\n",
    "    print(label_test.shape)"
   ]
  },
  {
   "cell_type": "code",
   "execution_count": 4,
   "id": "7325decd",
   "metadata": {},
   "outputs": [],
   "source": [
    "# Create an empty list called models\n",
    "models = []"
   ]
  },
  {
   "cell_type": "code",
   "execution_count": 5,
   "id": "b1d7b3cf",
   "metadata": {},
   "outputs": [],
   "source": [
    "def naive_bayes_classifiers(training, testing, label_train, label_test):\n",
    "    \n",
    "    # Instantiate and fit MultinomialNB\n",
    "    MNB_classifier = MultinomialNB().fit(training, label_train)\n",
    "    \n",
    "    # Generate predictions using the testing set\n",
    "    MNB_predictions = MNB_classifier.predict(testing)\n",
    "    \n",
    "    # Print confusion matrix and classification report\n",
    "    print(\"MultinomialNB\")\n",
    "    print(confusion_matrix(label_test, MNB_predictions),\"\\n\")\n",
    "    print(classification_report(label_test,MNB_predictions))\n",
    "    \n",
    "    # Instantiate and fit BernoulliNB\n",
    "    BNB_classifier = BernoulliNB().fit(training, label_train)\n",
    "    \n",
    "    # Generate predictions using the testing set\n",
    "    BNB_predictions = BNB_classifier.predict(testing)\n",
    "    \n",
    "    # Print confusion matrix and classification report\n",
    "    print(\"BernoulliNB\")\n",
    "    print(confusion_matrix(label_test, BNB_predictions),\"\\n\")\n",
    "    print(classification_report(label_test, BNB_predictions))\n",
    "    \n",
    "    # Instantiate and fit GaussianNB\n",
    "    GNB_classifier = GaussianNB().fit(training, label_train)\n",
    "    \n",
    "    # Generate predictions using the testing set\n",
    "    GNB_predictions = GNB_classifier.predict(testing)\n",
    "    \n",
    "    # Print confusion matrix and classification report\n",
    "    print(\"GaussianNB\")\n",
    "    print(confusion_matrix(label_test, GNB_predictions),\"\\n\")\n",
    "    print(classification_report(label_test, GNB_predictions))\n",
    "    \n",
    "    # Append the NB models to the models list\n",
    "    models.append(('MNB', MultinomialNB()))\n",
    "    models.append(('BNB', BernoulliNB()))\n",
    "    models.append(('GNB', GaussianNB()))"
   ]
  },
  {
   "cell_type": "code",
   "execution_count": 6,
   "id": "4365a718",
   "metadata": {},
   "outputs": [
    {
     "data": {
      "text/plain": [
       "\"\\ndef SV_classifier(training, testing, label_train, label_test):\\n    \\n    # Instantiate and fir the SV classifier\\n    SVC_c = SVC(kernel='linear').fit(training, label_train)\\n    \\n    # Generate predictions using the testing set\\n    SVC_prediction = SVC_c.predict(testing)\\n    \\n    # Print confusion matrix and classification report\\n    print(confusion_matrix(SVC_prediction, label_test))\\n    print(classification_report(SVC_prediction, label_test))\\n    \\n    # Append the SVC model to the models list\\n    models.append(('SVC', SVC(kernel='linear')))\\n\""
      ]
     },
     "execution_count": 6,
     "metadata": {},
     "output_type": "execute_result"
    }
   ],
   "source": [
    "\"\"\"\n",
    "def SV_classifier(training, testing, label_train, label_test):\n",
    "    \n",
    "    # Instantiate and fir the SV classifier\n",
    "    SVC_c = SVC(kernel='linear').fit(training, label_train)\n",
    "    \n",
    "    # Generate predictions using the testing set\n",
    "    SVC_prediction = SVC_c.predict(testing)\n",
    "    \n",
    "    # Print confusion matrix and classification report\n",
    "    print(confusion_matrix(SVC_prediction, label_test))\n",
    "    print(classification_report(SVC_prediction, label_test))\n",
    "    \n",
    "    # Append the SVC model to the models list\n",
    "    models.append(('SVC', SVC(kernel='linear')))\n",
    "\"\"\""
   ]
  },
  {
   "cell_type": "code",
   "execution_count": 89,
   "id": "1b15de2e",
   "metadata": {},
   "outputs": [],
   "source": [
    "def RF_classifier(training, testing, label_train, label_test):\n",
    "    global rf\n",
    "    \n",
    "    # Intantiate the RF_classifer\n",
    "    rf = RandomForestClassifier(n_estimators=100, criterion='gini')\n",
    "    \n",
    "    # Fit the training data and label\n",
    "    rf.fit(training, label_train)\n",
    "    \n",
    "    # Generate predictions using the testing set\n",
    "    rf_pred = rf.predict(testing)\n",
    "    \n",
    "    # Print confusion matrix and classification report\n",
    "    print(confusion_matrix(rf_pred, label_test),\"\\n\")\n",
    "    print(classification_report(rf_pred, label_test))\n",
    "    \n",
    "    # Append the RF model to the models list\n",
    "    models.append(('RF', RandomForestClassifier(n_estimators=100, criterion='gini')))"
   ]
  },
  {
   "cell_type": "code",
   "execution_count": 32,
   "id": "9145365c",
   "metadata": {},
   "outputs": [],
   "source": [
    "def KNN_classifer(training, testing, y_train, y_test):\n",
    "    \"\"\"\n",
    "    \n",
    "    # Define an empty dictionary called error rae=te\n",
    "    error_rate = dict()\n",
    "    \n",
    "    # Loop through to get the errors\n",
    "    for i in range(1,10):\n",
    "\n",
    "        knn = KNeighborsClassifier(n_neighbors=i)\n",
    "        knn.fit(training, y_train)\n",
    "        pred_i = knn.predict(testing)\n",
    "        error_rate[i] = np.mean(pred_i != y_test)\n",
    "\n",
    "    # Get the least error and store it\n",
    "    min_error = min(error_rate, key=error_rate.get)\n",
    "    print(\"Minimum error is: \",min_error)\n",
    "\n",
    "    \"\"\"\n",
    "    # Instantiate, fit and make predictions using KNN\n",
    "    knn = KNeighborsClassifier(n_neighbors=min_error)\n",
    "    knn.fit(training, y_train)\n",
    "    prediction = knn.predict(testing)\n",
    "    \n",
    "    # Get the confusion matrix and classification report\n",
    "    print(confusion_matrix(y_test,prediction))\n",
    "    print('\\n')\n",
    "    print(classification_report(y_test,prediction))\n",
    "    \n",
    "    # Append the KNN model to the models list\n",
    "    models.append(('KNN', KNeighborsClassifier(n_neighbors=2)))"
   ]
  },
  {
   "cell_type": "code",
   "execution_count": 9,
   "id": "f443091d",
   "metadata": {},
   "outputs": [],
   "source": [
    "def algorithm_evaluation(all_models, X, y):\n",
    "    accuracies = []\n",
    "    algo_names = []\n",
    "    # print(X.shape, y.shape)\n",
    "    for name, model in all_models:\n",
    "        k_fold = KFold(n_splits=10, shuffle=True, random_state=4)\n",
    "        results = cross_val_score(model, X, y, cv = k_fold, scoring = 'accuracy')\n",
    "        accuracies.append(results)\n",
    "        algo_names.append(name)\n",
    "        print(\"{}:{} ({})\".format(name, results.mean(), results.std()))\n",
    "    print(algo_names, accuracies)    \n",
    "    # Comparison boxplot\n",
    "    fig = plt.figure()\n",
    "    fig.suptitle('Comparison of used Algorithms')\n",
    "    ax = fig.add_subplot(111)\n",
    "    plt.boxplot(accuracies)\n",
    "    ax.set_xticklabels(algo_names)\n",
    "    plt.show()"
   ]
  },
  {
   "cell_type": "code",
   "execution_count": 106,
   "id": "54284448",
   "metadata": {},
   "outputs": [],
   "source": [
    "def classify(email):\n",
    "    email = [('text', [email])]\n",
    "    email = pd.DataFrame.from_dict(dict(email))\n",
    "    email_check = email.iloc[:, 0].values\n",
    "    if rf.predict(vec.transform(email_check)):\n",
    "        print('Spam')\n",
    "    else:\n",
    "        print('Ham')"
   ]
  },
  {
   "cell_type": "code",
   "execution_count": 13,
   "id": "790d7854",
   "metadata": {},
   "outputs": [],
   "source": [
    "# Define file names and load data \n",
    "data1 = 'lingSpam.csv'\n",
    "data2 = 'enronSpamSubset.csv'\n",
    "data3 = 'completeSpamAssassin.csv'\n",
    "load_data(data1, data2, data3)"
   ]
  },
  {
   "cell_type": "code",
   "execution_count": 94,
   "id": "9701584b",
   "metadata": {},
   "outputs": [
    {
     "name": "stdout",
     "output_type": "stream",
     "text": [
      "(12056, 25000)\n",
      "(5168, 25000)\n",
      "(12056,)\n",
      "(5168,)\n"
     ]
    }
   ],
   "source": [
    "prep_data(emails)"
   ]
  },
  {
   "cell_type": "code",
   "execution_count": 15,
   "id": "c5f46db3",
   "metadata": {},
   "outputs": [
    {
     "data": {
      "text/html": [
       "<div>\n",
       "<style scoped>\n",
       "    .dataframe tbody tr th:only-of-type {\n",
       "        vertical-align: middle;\n",
       "    }\n",
       "\n",
       "    .dataframe tbody tr th {\n",
       "        vertical-align: top;\n",
       "    }\n",
       "\n",
       "    .dataframe thead th {\n",
       "        text-align: right;\n",
       "    }\n",
       "</style>\n",
       "<table border=\"1\" class=\"dataframe\">\n",
       "  <thead>\n",
       "    <tr style=\"text-align: right;\">\n",
       "      <th></th>\n",
       "      <th>Body</th>\n",
       "      <th>Label</th>\n",
       "      <th>email_length</th>\n",
       "    </tr>\n",
       "  </thead>\n",
       "  <tbody>\n",
       "    <tr>\n",
       "      <th>0</th>\n",
       "      <td>Subject: great part-time or summer job !\\n \\n ...</td>\n",
       "      <td>1</td>\n",
       "      <td>1836</td>\n",
       "    </tr>\n",
       "    <tr>\n",
       "      <th>1</th>\n",
       "      <td>Subject: auto insurance rates too high ?\\n \\n ...</td>\n",
       "      <td>1</td>\n",
       "      <td>1252</td>\n",
       "    </tr>\n",
       "    <tr>\n",
       "      <th>2</th>\n",
       "      <td>Subject: do want the best and economical hunti...</td>\n",
       "      <td>1</td>\n",
       "      <td>684</td>\n",
       "    </tr>\n",
       "    <tr>\n",
       "      <th>3</th>\n",
       "      <td>Subject: email 57 million people for $ 99\\n \\n...</td>\n",
       "      <td>1</td>\n",
       "      <td>5234</td>\n",
       "    </tr>\n",
       "    <tr>\n",
       "      <th>4</th>\n",
       "      <td>Subject: do n't miss these !\\n \\n attention ! ...</td>\n",
       "      <td>1</td>\n",
       "      <td>6652</td>\n",
       "    </tr>\n",
       "  </tbody>\n",
       "</table>\n",
       "</div>"
      ],
      "text/plain": [
       "                                                Body  Label  email_length\n",
       "0  Subject: great part-time or summer job !\\n \\n ...      1          1836\n",
       "1  Subject: auto insurance rates too high ?\\n \\n ...      1          1252\n",
       "2  Subject: do want the best and economical hunti...      1           684\n",
       "3  Subject: email 57 million people for $ 99\\n \\n...      1          5234\n",
       "4  Subject: do n't miss these !\\n \\n attention ! ...      1          6652"
      ]
     },
     "execution_count": 15,
     "metadata": {},
     "output_type": "execute_result"
    }
   ],
   "source": [
    "# Check the first few rows of the data\n",
    "emails.head()"
   ]
  },
  {
   "cell_type": "code",
   "execution_count": 16,
   "id": "c3d16895",
   "metadata": {},
   "outputs": [
    {
     "data": {
      "text/plain": [
       "<bound method NDFrame.describe of                                                    Body  Label  email_length\n",
       "0     Subject: great part-time or summer job !\\n \\n ...      1          1836\n",
       "1     Subject: auto insurance rates too high ?\\n \\n ...      1          1252\n",
       "2     Subject: do want the best and economical hunti...      1           684\n",
       "3     Subject: email 57 million people for $ 99\\n \\n...      1          5234\n",
       "4     Subject: do n't miss these !\\n \\n attention ! ...      1          6652\n",
       "...                                                 ...    ...           ...\n",
       "6033  ----------------------------------------------...      0          9342\n",
       "6034  EFFector       Vol. 15, No. 35       November ...      0          9937\n",
       "6039  \\nWe have extended our Free seat sale until Th...      0          3417\n",
       "6042                    ___           ___           ...      0         16999\n",
       "6043  IN THIS ISSUE:01. Readers write\\n02. Extension...      0          7299\n",
       "\n",
       "[17224 rows x 3 columns]>"
      ]
     },
     "execution_count": 16,
     "metadata": {},
     "output_type": "execute_result"
    }
   ],
   "source": [
    "emails.describe"
   ]
  },
  {
   "cell_type": "code",
   "execution_count": 17,
   "id": "8c9424d5",
   "metadata": {
    "scrolled": true
   },
   "outputs": [
    {
     "data": {
      "text/html": [
       "<div>\n",
       "<style scoped>\n",
       "    .dataframe tbody tr th:only-of-type {\n",
       "        vertical-align: middle;\n",
       "    }\n",
       "\n",
       "    .dataframe tbody tr th {\n",
       "        vertical-align: top;\n",
       "    }\n",
       "\n",
       "    .dataframe thead tr th {\n",
       "        text-align: left;\n",
       "    }\n",
       "\n",
       "    .dataframe thead tr:last-of-type th {\n",
       "        text-align: right;\n",
       "    }\n",
       "</style>\n",
       "<table border=\"1\" class=\"dataframe\">\n",
       "  <thead>\n",
       "    <tr>\n",
       "      <th></th>\n",
       "      <th colspan=\"8\" halign=\"left\">email_length</th>\n",
       "    </tr>\n",
       "    <tr>\n",
       "      <th></th>\n",
       "      <th>count</th>\n",
       "      <th>mean</th>\n",
       "      <th>std</th>\n",
       "      <th>min</th>\n",
       "      <th>25%</th>\n",
       "      <th>50%</th>\n",
       "      <th>75%</th>\n",
       "      <th>max</th>\n",
       "    </tr>\n",
       "    <tr>\n",
       "      <th>Label</th>\n",
       "      <th></th>\n",
       "      <th></th>\n",
       "      <th></th>\n",
       "      <th></th>\n",
       "      <th></th>\n",
       "      <th></th>\n",
       "      <th></th>\n",
       "      <th></th>\n",
       "    </tr>\n",
       "  </thead>\n",
       "  <tbody>\n",
       "    <tr>\n",
       "      <th>0</th>\n",
       "      <td>10774.0</td>\n",
       "      <td>3616.950900</td>\n",
       "      <td>164661.243463</td>\n",
       "      <td>17.0</td>\n",
       "      <td>474.25</td>\n",
       "      <td>1024.0</td>\n",
       "      <td>2056.0</td>\n",
       "      <td>17085626.0</td>\n",
       "    </tr>\n",
       "    <tr>\n",
       "      <th>1</th>\n",
       "      <td>6450.0</td>\n",
       "      <td>1711.096124</td>\n",
       "      <td>3462.059581</td>\n",
       "      <td>10.0</td>\n",
       "      <td>420.00</td>\n",
       "      <td>793.0</td>\n",
       "      <td>1683.5</td>\n",
       "      <td>129635.0</td>\n",
       "    </tr>\n",
       "  </tbody>\n",
       "</table>\n",
       "</div>"
      ],
      "text/plain": [
       "      email_length                                                            \\\n",
       "             count         mean            std   min     25%     50%     75%   \n",
       "Label                                                                          \n",
       "0          10774.0  3616.950900  164661.243463  17.0  474.25  1024.0  2056.0   \n",
       "1           6450.0  1711.096124    3462.059581  10.0  420.00   793.0  1683.5   \n",
       "\n",
       "                   \n",
       "              max  \n",
       "Label              \n",
       "0      17085626.0  \n",
       "1        129635.0  "
      ]
     },
     "execution_count": 17,
     "metadata": {},
     "output_type": "execute_result"
    }
   ],
   "source": [
    "emails.groupby('Label').describe()"
   ]
  },
  {
   "cell_type": "code",
   "execution_count": 18,
   "id": "e1a43f7a",
   "metadata": {},
   "outputs": [
    {
     "data": {
      "text/html": [
       "<div>\n",
       "<style scoped>\n",
       "    .dataframe tbody tr th:only-of-type {\n",
       "        vertical-align: middle;\n",
       "    }\n",
       "\n",
       "    .dataframe tbody tr th {\n",
       "        vertical-align: top;\n",
       "    }\n",
       "\n",
       "    .dataframe thead th {\n",
       "        text-align: right;\n",
       "    }\n",
       "</style>\n",
       "<table border=\"1\" class=\"dataframe\">\n",
       "  <thead>\n",
       "    <tr style=\"text-align: right;\">\n",
       "      <th></th>\n",
       "      <th>Body</th>\n",
       "      <th>Label</th>\n",
       "      <th>email_length</th>\n",
       "    </tr>\n",
       "  </thead>\n",
       "  <tbody>\n",
       "    <tr>\n",
       "      <th>2604</th>\n",
       "      <td>,Body,Label\\n 0,\"Subject: great part-time or s...</td>\n",
       "      <td>0</td>\n",
       "      <td>17085626</td>\n",
       "    </tr>\n",
       "  </tbody>\n",
       "</table>\n",
       "</div>"
      ],
      "text/plain": [
       "                                                   Body  Label  email_length\n",
       "2604  ,Body,Label\\n 0,\"Subject: great part-time or s...      0      17085626"
      ]
     },
     "execution_count": 18,
     "metadata": {},
     "output_type": "execute_result"
    }
   ],
   "source": [
    "emails[emails['email_length'] == 17085626]"
   ]
  },
  {
   "cell_type": "code",
   "execution_count": 19,
   "id": "b33546cb",
   "metadata": {
    "scrolled": true
   },
   "outputs": [
    {
     "data": {
      "text/plain": [
       "'\\nplt.figure(figsize=(10,6))\\nemails[emails.Label==0].email_length.plot(bins=35, kind=\\'hist\\', color=\\'blue\\', \\n                                       label=\\'Ham emails\\', alpha=0.6)\\nemails[emails.Label==1].email_length.plot(bins=35, kind=\\'hist\\', color=\\'red\\', \\n                                       label=\\'Spam emails\\', alpha=0.6)\\nplt.legend()\\nplt.xlabel(\"Email length\")\\nplt.title(\"Email length frequency for ham and spam\")\\nplt.show()\\n\\n'"
      ]
     },
     "execution_count": 19,
     "metadata": {},
     "output_type": "execute_result"
    }
   ],
   "source": [
    "\"\"\"\n",
    "plt.figure(figsize=(10,6))\n",
    "emails[emails.Label==0].email_length.plot(bins=35, kind='hist', color='blue', \n",
    "                                       label='Ham emails', alpha=0.6)\n",
    "emails[emails.Label==1].email_length.plot(bins=35, kind='hist', color='red', \n",
    "                                       label='Spam emails', alpha=0.6)\n",
    "plt.legend()\n",
    "plt.xlabel(\"Email length\")\n",
    "plt.title(\"Email length frequency for ham and spam\")\n",
    "plt.show()\n",
    "\n",
    "\"\"\""
   ]
  },
  {
   "cell_type": "code",
   "execution_count": 87,
   "id": "7fc6b5b4",
   "metadata": {
    "scrolled": true
   },
   "outputs": [
    {
     "data": {
      "text/html": [
       "<div>\n",
       "<style scoped>\n",
       "    .dataframe tbody tr th:only-of-type {\n",
       "        vertical-align: middle;\n",
       "    }\n",
       "\n",
       "    .dataframe tbody tr th {\n",
       "        vertical-align: top;\n",
       "    }\n",
       "\n",
       "    .dataframe thead th {\n",
       "        text-align: right;\n",
       "    }\n",
       "</style>\n",
       "<table border=\"1\" class=\"dataframe\">\n",
       "  <thead>\n",
       "    <tr style=\"text-align: right;\">\n",
       "      <th></th>\n",
       "      <th>Label</th>\n",
       "      <th>email_length</th>\n",
       "    </tr>\n",
       "  </thead>\n",
       "  <tbody>\n",
       "    <tr>\n",
       "      <th>count</th>\n",
       "      <td>10774.0</td>\n",
       "      <td>1.077400e+04</td>\n",
       "    </tr>\n",
       "    <tr>\n",
       "      <th>mean</th>\n",
       "      <td>0.0</td>\n",
       "      <td>3.616951e+03</td>\n",
       "    </tr>\n",
       "    <tr>\n",
       "      <th>std</th>\n",
       "      <td>0.0</td>\n",
       "      <td>1.646612e+05</td>\n",
       "    </tr>\n",
       "    <tr>\n",
       "      <th>min</th>\n",
       "      <td>0.0</td>\n",
       "      <td>1.700000e+01</td>\n",
       "    </tr>\n",
       "    <tr>\n",
       "      <th>25%</th>\n",
       "      <td>0.0</td>\n",
       "      <td>4.742500e+02</td>\n",
       "    </tr>\n",
       "    <tr>\n",
       "      <th>50%</th>\n",
       "      <td>0.0</td>\n",
       "      <td>1.024000e+03</td>\n",
       "    </tr>\n",
       "    <tr>\n",
       "      <th>75%</th>\n",
       "      <td>0.0</td>\n",
       "      <td>2.056000e+03</td>\n",
       "    </tr>\n",
       "    <tr>\n",
       "      <th>max</th>\n",
       "      <td>0.0</td>\n",
       "      <td>1.708563e+07</td>\n",
       "    </tr>\n",
       "  </tbody>\n",
       "</table>\n",
       "</div>"
      ],
      "text/plain": [
       "         Label  email_length\n",
       "count  10774.0  1.077400e+04\n",
       "mean       0.0  3.616951e+03\n",
       "std        0.0  1.646612e+05\n",
       "min        0.0  1.700000e+01\n",
       "25%        0.0  4.742500e+02\n",
       "50%        0.0  1.024000e+03\n",
       "75%        0.0  2.056000e+03\n",
       "max        0.0  1.708563e+07"
      ]
     },
     "execution_count": 87,
     "metadata": {},
     "output_type": "execute_result"
    }
   ],
   "source": [
    "emails[emails.Label==0].describe()"
   ]
  },
  {
   "cell_type": "code",
   "execution_count": 21,
   "id": "c14a905f",
   "metadata": {},
   "outputs": [
    {
     "data": {
      "text/html": [
       "<div>\n",
       "<style scoped>\n",
       "    .dataframe tbody tr th:only-of-type {\n",
       "        vertical-align: middle;\n",
       "    }\n",
       "\n",
       "    .dataframe tbody tr th {\n",
       "        vertical-align: top;\n",
       "    }\n",
       "\n",
       "    .dataframe thead th {\n",
       "        text-align: right;\n",
       "    }\n",
       "</style>\n",
       "<table border=\"1\" class=\"dataframe\">\n",
       "  <thead>\n",
       "    <tr style=\"text-align: right;\">\n",
       "      <th></th>\n",
       "      <th>Label</th>\n",
       "      <th>email_length</th>\n",
       "    </tr>\n",
       "  </thead>\n",
       "  <tbody>\n",
       "    <tr>\n",
       "      <th>count</th>\n",
       "      <td>6450.0</td>\n",
       "      <td>6450.000000</td>\n",
       "    </tr>\n",
       "    <tr>\n",
       "      <th>mean</th>\n",
       "      <td>1.0</td>\n",
       "      <td>1711.096124</td>\n",
       "    </tr>\n",
       "    <tr>\n",
       "      <th>std</th>\n",
       "      <td>0.0</td>\n",
       "      <td>3462.059581</td>\n",
       "    </tr>\n",
       "    <tr>\n",
       "      <th>min</th>\n",
       "      <td>1.0</td>\n",
       "      <td>10.000000</td>\n",
       "    </tr>\n",
       "    <tr>\n",
       "      <th>25%</th>\n",
       "      <td>1.0</td>\n",
       "      <td>420.000000</td>\n",
       "    </tr>\n",
       "    <tr>\n",
       "      <th>50%</th>\n",
       "      <td>1.0</td>\n",
       "      <td>793.000000</td>\n",
       "    </tr>\n",
       "    <tr>\n",
       "      <th>75%</th>\n",
       "      <td>1.0</td>\n",
       "      <td>1683.500000</td>\n",
       "    </tr>\n",
       "    <tr>\n",
       "      <th>max</th>\n",
       "      <td>1.0</td>\n",
       "      <td>129635.000000</td>\n",
       "    </tr>\n",
       "  </tbody>\n",
       "</table>\n",
       "</div>"
      ],
      "text/plain": [
       "        Label   email_length\n",
       "count  6450.0    6450.000000\n",
       "mean      1.0    1711.096124\n",
       "std       0.0    3462.059581\n",
       "min       1.0      10.000000\n",
       "25%       1.0     420.000000\n",
       "50%       1.0     793.000000\n",
       "75%       1.0    1683.500000\n",
       "max       1.0  129635.000000"
      ]
     },
     "execution_count": 21,
     "metadata": {},
     "output_type": "execute_result"
    }
   ],
   "source": [
    "emails[emails.Label==1].describe()"
   ]
  },
  {
   "cell_type": "code",
   "execution_count": 22,
   "id": "f2d811e2",
   "metadata": {},
   "outputs": [
    {
     "data": {
      "image/png": "[encoded data removed]",
      "text/plain": [
       "<Figure size 640x480 with 1 Axes>"
      ]
     },
     "metadata": {},
     "output_type": "display_data"
    }
   ],
   "source": [
    "plt.figure()\n",
    "sns.countplot(x='Label',data=emails,palette='rainbow')\n",
    "plt.title('Email distribution by Ham and Spam')\n",
    "plt.show()"
   ]
  },
  {
   "cell_type": "code",
   "execution_count": 23,
   "id": "4256ee6b",
   "metadata": {},
   "outputs": [
    {
     "data": {
      "image/png": "[encoded data removed]",
      "text/plain": [
       "<Figure size 640x480 with 1 Axes>"
      ]
     },
     "metadata": {},
     "output_type": "display_data"
    }
   ],
   "source": [
    "plt.figure()\n",
    "sns.boxplot(x='Label',y='email_length',data=emails,palette='rainbow')\n",
    "plt.title('Email length distribution by Ham and Spam')\n",
    "plt.show()"
   ]
  },
  {
   "cell_type": "code",
   "execution_count": 24,
   "id": "81c2e7aa",
   "metadata": {},
   "outputs": [
    {
     "data": {
      "text/plain": [
       "Body            0\n",
       "Label           0\n",
       "email_length    0\n",
       "dtype: int64"
      ]
     },
     "execution_count": 24,
     "metadata": {},
     "output_type": "execute_result"
    }
   ],
   "source": [
    "emails.isnull().sum()"
   ]
  },
  {
   "cell_type": "code",
   "execution_count": 25,
   "id": "b0d8aa75",
   "metadata": {},
   "outputs": [
    {
     "data": {
      "text/plain": [
       "array([<AxesSubplot:title={'center':'0'}>,\n",
       "       <AxesSubplot:title={'center':'1'}>], dtype=object)"
      ]
     },
     "execution_count": 25,
     "metadata": {},
     "output_type": "execute_result"
    },
    {
     "data": {
      "image/png": "[encoded data removed]",
      "text/plain": [
       "<Figure size 1200x400 with 2 Axes>"
      ]
     },
     "metadata": {},
     "output_type": "display_data"
    }
   ],
   "source": [
    "emails.hist(column='email_length',by='Label',bins=60, figsize=(12,4))"
   ]
  },
  {
   "cell_type": "code",
   "execution_count": 26,
   "id": "8f378486",
   "metadata": {},
   "outputs": [
    {
     "name": "stdout",
     "output_type": "stream",
     "text": [
      "MultinomialNB\n",
      "[[3018  207]\n",
      " [  45 1898]] \n",
      "\n",
      "              precision    recall  f1-score   support\n",
      "\n",
      "           0       0.99      0.94      0.96      3225\n",
      "           1       0.90      0.98      0.94      1943\n",
      "\n",
      "    accuracy                           0.95      5168\n",
      "   macro avg       0.94      0.96      0.95      5168\n",
      "weighted avg       0.95      0.95      0.95      5168\n",
      "\n",
      "BernoulliNB\n",
      "[[2791  434]\n",
      " [  27 1916]] \n",
      "\n",
      "              precision    recall  f1-score   support\n",
      "\n",
      "           0       0.99      0.87      0.92      3225\n",
      "           1       0.82      0.99      0.89      1943\n",
      "\n",
      "    accuracy                           0.91      5168\n",
      "   macro avg       0.90      0.93      0.91      5168\n",
      "weighted avg       0.92      0.91      0.91      5168\n",
      "\n",
      "GaussianNB\n",
      "[[2533  692]\n",
      " [ 163 1780]] \n",
      "\n",
      "              precision    recall  f1-score   support\n",
      "\n",
      "           0       0.94      0.79      0.86      3225\n",
      "           1       0.72      0.92      0.81      1943\n",
      "\n",
      "    accuracy                           0.83      5168\n",
      "   macro avg       0.83      0.85      0.83      5168\n",
      "weighted avg       0.86      0.83      0.84      5168\n",
      "\n"
     ]
    }
   ],
   "source": [
    "naive_bayes_classifiers(email_train, email_test, label_train, label_test)"
   ]
  },
  {
   "cell_type": "code",
   "execution_count": null,
   "id": "aca8a706",
   "metadata": {},
   "outputs": [],
   "source": [
    "# SV_classifier(email_train, email_test, label_train, label_test)"
   ]
  },
  {
   "cell_type": "code",
   "execution_count": 92,
   "id": "0619e00e",
   "metadata": {
    "scrolled": false
   },
   "outputs": [
    {
     "name": "stdout",
     "output_type": "stream",
     "text": [
      "[[3163   64]\n",
      " [  62 1879]] \n",
      "\n",
      "              precision    recall  f1-score   support\n",
      "\n",
      "           0       0.98      0.98      0.98      3227\n",
      "           1       0.97      0.97      0.97      1941\n",
      "\n",
      "    accuracy                           0.98      5168\n",
      "   macro avg       0.97      0.97      0.97      5168\n",
      "weighted avg       0.98      0.98      0.98      5168\n",
      "\n"
     ]
    }
   ],
   "source": [
    "RF_classifier(email_train, email_test, label_train, label_test)"
   ]
  },
  {
   "cell_type": "code",
   "execution_count": 28,
   "id": "26e74824",
   "metadata": {},
   "outputs": [
    {
     "name": "stdout",
     "output_type": "stream",
     "text": [
      "2\n",
      "[[2809  416]\n",
      " [ 201 1742]]\n",
      "\n",
      "\n",
      "              precision    recall  f1-score   support\n",
      "\n",
      "           0       0.93      0.87      0.90      3225\n",
      "           1       0.81      0.90      0.85      1943\n",
      "\n",
      "    accuracy                           0.88      5168\n",
      "   macro avg       0.87      0.88      0.88      5168\n",
      "weighted avg       0.89      0.88      0.88      5168\n",
      "\n"
     ]
    }
   ],
   "source": [
    "KNN_classifer(email_train, email_test, label_train, label_test)"
   ]
  },
  {
   "cell_type": "code",
   "execution_count": 30,
   "id": "f91bb28f",
   "metadata": {
    "scrolled": true
   },
   "outputs": [
    {
     "data": {
      "text/plain": [
       "[('MNB', MultinomialNB()),\n",
       " ('BNB', BernoulliNB()),\n",
       " ('GNB', GaussianNB()),\n",
       " ('RF', RandomForestClassifier()),\n",
       " ('KNN', KNeighborsClassifier(n_neighbors=2))]"
      ]
     },
     "execution_count": 30,
     "metadata": {},
     "output_type": "execute_result"
    }
   ],
   "source": [
    "models"
   ]
  },
  {
   "cell_type": "code",
   "execution_count": 31,
   "id": "e56550b3",
   "metadata": {},
   "outputs": [
    {
     "name": "stdout",
     "output_type": "stream",
     "text": [
      "MNB:0.9462517289073306 (0.009549513575567043)\n",
      "BNB:0.9089262539308989 (0.011853578938399579)\n",
      "GNB:0.8279701767786241 (0.017779996905807265)\n",
      "RF:0.9747841704341363 (0.004233577463580433)\n",
      "KNN:0.8769920108998577 (0.00954163958459769)\n",
      "['MNB', 'BNB', 'GNB', 'RF', 'KNN'] [array([0.93283582, 0.94776119, 0.9668325 , 0.93864013, 0.93283582,\n",
      "       0.94776119, 0.9526971 , 0.94439834, 0.94854772, 0.95020747]), array([0.90298507, 0.90298507, 0.91044776, 0.89718076, 0.8946932 ,\n",
      "       0.93034826, 0.92033195, 0.90456432, 0.89958506, 0.92614108]), array([0.82504146, 0.82421227, 0.85489221, 0.80762852, 0.80514096,\n",
      "       0.84245439, 0.85145228, 0.82489627, 0.80414938, 0.83983402]), array([0.97263682, 0.97761194, 0.96766169, 0.973466  , 0.9800995 ,\n",
      "       0.97927032, 0.98008299, 0.97012448, 0.97095436, 0.97593361]), array([0.87230514, 0.87313433, 0.85737977, 0.87396352, 0.87976783,\n",
      "       0.88971808, 0.87883817, 0.8879668 , 0.86887967, 0.8879668 ])]\n"
     ]
    },
    {
     "data": {
      "image/png": "[encoded data removed]",
      "text/plain": [
       "<Figure size 640x480 with 1 Axes>"
      ]
     },
     "metadata": {},
     "output_type": "display_data"
    }
   ],
   "source": [
    "algorithm_evaluation(models, email_train, label_train)"
   ]
  },
  {
   "cell_type": "code",
   "execution_count": 110,
   "id": "5b3d957d",
   "metadata": {},
   "outputs": [
    {
     "name": "stdout",
     "output_type": "stream",
     "text": [
      "Type here something and see if it belongs to spam: \n",
      "  PAYOUT VERIFICATION  Congratulation!  We are trying to reach you. Please confirm your email.your account credit Will remain pending your confirmation. You've Won, $50,000 Please confirm receipt now This transaction may only appear on your account after validate your info.\n",
      "Ham\n"
     ]
    }
   ],
   "source": [
    "text = input('Type here something and see if it belongs to spam: \\n')\n",
    "classify(text)"
   ]
  },
  {
   "cell_type": "code",
   "execution_count": null,
   "id": "e46ba572",
   "metadata": {},
   "outputs": [],
   "source": [
    "te"
   ]
  }
 ],
 "metadata": {
  "kernelspec": {
   "display_name": "Python 3 (ipykernel)",
   "language": "python",
   "name": "python3"
  },
  "language_info": {
   "codemirror_mode": {
    "name": "ipython",
    "version": 3
   },
   "file_extension": ".py",
   "mimetype": "text/x-python",
   "name": "python",
   "nbconvert_exporter": "python",
   "pygments_lexer": "ipython3",
   "version": "3.9.13"
  }
 },
 "nbformat": 4,
 "nbformat_minor": 5
}
